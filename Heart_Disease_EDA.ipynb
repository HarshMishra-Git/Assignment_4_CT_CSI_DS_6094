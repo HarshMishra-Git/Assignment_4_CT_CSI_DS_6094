{
 "cells": [
  {
   "cell_type": "markdown",
   "id": "c950ea4f",
   "metadata": {},
   "source": [
    "\n",
    "# 🩺 Heart Disease Dataset - Exploratory Data Analysis (EDA)\n",
    "\n",
    "**Author:** *Your Name*  \n",
    "**Date:** *June 2025*  \n",
    "**Dataset:** [Heart Disease Dataset](https://www.kaggle.com/datasets/fedesoriano/heart-disease-dataset)\n",
    "\n",
    "---\n"
   ]
  },
  {
   "cell_type": "markdown",
   "id": "4685d008",
   "metadata": {},
   "source": [
    "\n",
    "## 🔍 Introduction\n",
    "\n",
    "This notebook presents an in-depth Exploratory Data Analysis (EDA) of a heart disease dataset.  \n",
    "The goal is to explore data distribution, detect missing values and outliers, and uncover relationships between features and the target variable.\n"
   ]
  },
  {
   "cell_type": "markdown",
   "id": "708a5cc1",
   "metadata": {},
   "source": [
    "## 📥 1. Load and Inspect the Dataset"
   ]
  },
  {
   "cell_type": "code",
   "execution_count": null,
   "id": "98a2b160",
   "metadata": {},
   "outputs": [],
   "source": [
    "\n",
    "import pandas as pd\n",
    "import matplotlib.pyplot as plt\n",
    "import seaborn as sns\n",
    "\n",
    "# Set style\n",
    "sns.set(style=\"whitegrid\")\n",
    "plt.rcParams[\"figure.figsize\"] = (10, 6)\n",
    "\n",
    "# Load dataset\n",
    "df = pd.read_csv(\"heart.csv\")\n",
    "df.head()\n"
   ]
  },
  {
   "cell_type": "markdown",
   "id": "7983bde8",
   "metadata": {},
   "source": [
    "## 📊 2. Dataset Summary"
   ]
  },
  {
   "cell_type": "code",
   "execution_count": null,
   "id": "45bbd534",
   "metadata": {},
   "outputs": [],
   "source": [
    "df.info()"
   ]
  },
  {
   "cell_type": "code",
   "execution_count": null,
   "id": "9b8c836a",
   "metadata": {},
   "outputs": [],
   "source": [
    "df.describe()"
   ]
  },
  {
   "cell_type": "markdown",
   "id": "89dc7cd6",
   "metadata": {},
   "source": [
    "## 🧩 3. Missing Value Analysis"
   ]
  },
  {
   "cell_type": "code",
   "execution_count": null,
   "id": "ed2fa227",
   "metadata": {},
   "outputs": [],
   "source": [
    "\n",
    "df.isnull().sum()\n"
   ]
  },
  {
   "cell_type": "code",
   "execution_count": null,
   "id": "11cdf44a",
   "metadata": {},
   "outputs": [],
   "source": [
    "\n",
    "sns.heatmap(df.isnull(), cbar=False, cmap='viridis')\n",
    "plt.title(\"Missing Value Heatmap\")\n",
    "plt.show()\n"
   ]
  },
  {
   "cell_type": "markdown",
   "id": "f6caeb1e",
   "metadata": {},
   "source": [
    "## 📈 4. Univariate Analysis"
   ]
  },
  {
   "cell_type": "code",
   "execution_count": null,
   "id": "0640eef4",
   "metadata": {},
   "outputs": [],
   "source": [
    "\n",
    "df.hist(figsize=(14, 12), bins=20, edgecolor='black')\n",
    "plt.suptitle(\"Distributions of Numerical Features\", fontsize=16)\n",
    "plt.tight_layout()\n",
    "plt.show()\n"
   ]
  },
  {
   "cell_type": "code",
   "execution_count": null,
   "id": "5d632f53",
   "metadata": {},
   "outputs": [],
   "source": [
    "\n",
    "sns.countplot(x='sex', data=df)\n",
    "plt.title(\"Distribution by Sex\")\n",
    "plt.show()\n"
   ]
  },
  {
   "cell_type": "markdown",
   "id": "1ad7df9d",
   "metadata": {},
   "source": [
    "## ⚠️ 5. Outlier Detection"
   ]
  },
  {
   "cell_type": "code",
   "execution_count": null,
   "id": "c145df4e",
   "metadata": {},
   "outputs": [],
   "source": [
    "\n",
    "sns.boxplot(data=df)\n",
    "plt.xticks(rotation=90)\n",
    "plt.title(\"Boxplot for Outlier Detection\")\n",
    "plt.show()\n"
   ]
  },
  {
   "cell_type": "code",
   "execution_count": null,
   "id": "eba7249e",
   "metadata": {},
   "outputs": [],
   "source": [
    "\n",
    "sns.boxplot(y='chol', data=df)\n",
    "plt.title(\"Outliers in Cholesterol\")\n",
    "plt.show()\n"
   ]
  },
  {
   "cell_type": "markdown",
   "id": "a3785b50",
   "metadata": {},
   "source": [
    "## 🧠 6. Correlation Analysis"
   ]
  },
  {
   "cell_type": "code",
   "execution_count": null,
   "id": "d661155e",
   "metadata": {},
   "outputs": [],
   "source": [
    "\n",
    "sns.heatmap(df.corr(), annot=True, cmap='coolwarm', fmt=\".2f\")\n",
    "plt.title(\"Correlation Heatmap\")\n",
    "plt.show()\n"
   ]
  },
  {
   "cell_type": "markdown",
   "id": "b4449a2c",
   "metadata": {},
   "source": [
    "## 🔗 7. Relationships with Target Variable"
   ]
  },
  {
   "cell_type": "code",
   "execution_count": null,
   "id": "951d95bb",
   "metadata": {},
   "outputs": [],
   "source": [
    "\n",
    "sns.countplot(x='target', data=df)\n",
    "plt.title(\"Target Variable Distribution\")\n",
    "plt.show()\n"
   ]
  },
  {
   "cell_type": "code",
   "execution_count": null,
   "id": "3cebf627",
   "metadata": {},
   "outputs": [],
   "source": [
    "\n",
    "sns.countplot(x='cp', hue='target', data=df)\n",
    "plt.title(\"Chest Pain Type vs. Heart Disease\")\n",
    "plt.show()\n"
   ]
  },
  {
   "cell_type": "code",
   "execution_count": null,
   "id": "ef8bb08c",
   "metadata": {},
   "outputs": [],
   "source": [
    "\n",
    "sns.scatterplot(x='age', y='chol', hue='target', data=df)\n",
    "plt.title(\"Age vs. Cholesterol by Target\")\n",
    "plt.show()\n"
   ]
  },
  {
   "cell_type": "markdown",
   "id": "dfd5fbd3",
   "metadata": {},
   "source": [
    "## 📝 8. Summary of Findings"
   ]
  },
  {
   "cell_type": "markdown",
   "id": "b4d77e8a",
   "metadata": {},
   "source": [
    "\n",
    "- ✅ No missing values in the dataset.\n",
    "- ⚠️ Some outliers exist in features like cholesterol (`chol`) and max heart rate (`thalach`).\n",
    "- 🧬 Features like `cp` (chest pain type) and `exang` (exercise-induced angina) show strong correlation with heart disease.\n",
    "- 🔎 Correlation heatmap reveals interesting inter-feature relationships worth exploring in modeling.\n",
    "\n",
    "---\n"
   ]
  }
 ],
 "metadata": {},
 "nbformat": 4,
 "nbformat_minor": 5
}
